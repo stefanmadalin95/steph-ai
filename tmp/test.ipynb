{
 "cells": [
  {
   "cell_type": "code",
   "execution_count": null,
   "metadata": {},
   "outputs": [],
   "source": [
    "from dotenv import load_dotenv\n",
    "from langchain.chains import LLMChain\n",
    "from langchain.chat_models import ChatOpenAI\n",
    "from langchain.memory import ConversationBufferMemory\n",
    "from langchain.prompts import PromptTemplate\n",
    "\n",
    "load_dotenv()\n",
    "\n",
    "def create_llm_chain():\n",
    "    template = PromptTemplate(\n",
    "        input_variables = [\"chat_history\", \"human_input\"],\n",
    "        template = \"\"\"You are a helpfull chatbot, having a conversation with a human.\n",
    "        {chat_history}\n",
    "        Human: {human_input}\n",
    "        Chatbot:\"\"\"\n",
    "    )\n",
    "    memory = ConversationBufferMemory(memory_key=\"chat_history\")\n",
    "    llm_chain = LLMChain(\n",
    "        llm=ChatOpenAI(model=\"gpt-4-turbo\",temperature=0.7),\n",
    "        memory=memory,\n",
    "        prompt=template,\n",
    "        verbose=True\n",
    "    )\n",
    "    return llm_chain\n",
    "\n"
   ]
  }
 ],
 "metadata": {
  "kernelspec": {
   "display_name": "steph-ai-eMNLKmMY",
   "language": "python",
   "name": "python3"
  },
  "language_info": {
   "name": "python",
   "version": "3.12.2"
  }
 },
 "nbformat": 4,
 "nbformat_minor": 2
}
